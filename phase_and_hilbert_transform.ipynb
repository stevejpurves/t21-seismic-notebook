{
 "cells": [
  {
   "cell_type": "markdown",
   "metadata": {
    "iooxa": {
     "id": {
      "block": "RCLtaFblEc9TipfSblEE",
      "project": "n1iOdbjzTi7Mitb4L0JB",
      "version": 1
     }
    }
   },
   "source": [
    "# Phase and the Hilbert Transform\n",
    "\n",
    "The first verision of this tutorial was published in 2014 in [The Leading Edge](https://library.seg.org/doi/10.1190/tle33101164.1) where GNU Octave was used for coding and plotting.\n",
    "\n",
    "A python version is long overdue and thank's to the notebook we can now bring all the example code inline easily.\n",
    "\n",
    "### setup (conda)\n",
    "\n",
    "```\n",
    "conda env create -f environment.yml\n",
    "conda activate seg-tutorial-phase\n",
    "```"
   ]
  },
  {
   "cell_type": "markdown",
   "metadata": {
    "iooxa": {
     "id": {
      "block": "3ZPGmb9GC5bnVqEHuFpz",
      "project": "n1iOdbjzTi7Mitb4L0JB",
      "version": 1
     }
    }
   },
   "source": [
    "## Load Data\n",
    "\n",
    "We have 1 SEGY data file available:\n",
    "\n",
    "1. `data/f3_seismic.sgy` a subset of the Netherlands F3 Seismic Survey\n"
   ]
  },
  {
   "cell_type": "code",
   "execution_count": null,
   "metadata": {
    "iooxa": {
     "id": {
      "block": "5JeD2AZMGjxk6yq4li0T",
      "project": "n1iOdbjzTi7Mitb4L0JB",
      "version": 2
     },
     "outputId": {
      "block": "2BWzxeHzH6MK2wuDpwi7",
      "project": "n1iOdbjzTi7Mitb4L0JB",
      "version": 2
     }
    }
   },
   "outputs": [],
   "source": [
    "import segyio\n",
    "import numpy as np\n",
    "\n",
    "with segyio.open('../data/f3_seismic.sgy') as f:\n",
    "    line = f.xline[1020]\n",
    "    seismic = line\n",
    "    \n",
    "    trace = seismic[100, :]\n",
    "    \n",
    "    vmin, vmax = np.min(line), np.max(line)\n",
    "    vrng = max(abs(vmin), vmax)\n",
    "    \n",
    "    print(f\"inline range {f.ilines[0]}, {f.ilines[-1]}\")\n",
    "    print(f\"xline range {f.xlines[0]}, {f.xlines[-1]}\")    \n",
    "    print(f\"sample range {f.samples[0]}, {f.samples[-1]}\")\n",
    "    print(f\"data range {vmin}, {vmax}\")"
   ]
  },
  {
   "cell_type": "code",
   "execution_count": null,
   "metadata": {
    "iooxa": {
     "id": {
      "block": "3iwvjQfqwEii0ocqsIlD",
      "project": "n1iOdbjzTi7Mitb4L0JB",
      "version": 3
     },
     "outputId": {
      "block": "QFTo48VEXB6HP6uNHk9k",
      "project": "n1iOdbjzTi7Mitb4L0JB",
      "version": 3
     }
    }
   },
   "outputs": [],
   "source": [
    "import matplotlib.pyplot as plt\n",
    "%matplotlib inline\n",
    "\n",
    "plt.figure(figsize=(18,11))\n",
    "plt.imshow(seismic.T, vmin=-vrng/2, vmax=vrng/2, cmap='Greys', aspect='auto', interpolation='bilinear')\n",
    "_=plt.title(f\"Penobscot - partial inline 1020\")"
   ]
  },
  {
   "cell_type": "code",
   "execution_count": null,
   "metadata": {
    "iooxa": {
     "id": {
      "block": "uWiIIjbfqkLIPPj7SbWU",
      "project": "n1iOdbjzTi7Mitb4L0JB",
      "version": 2
     },
     "outputId": {
      "block": "zAAlmIT01hMhQx43pMUr",
      "project": "n1iOdbjzTi7Mitb4L0JB",
      "version": 2
     }
    }
   },
   "outputs": [],
   "source": [
    "plt.figure(figsize=(16,3))\n",
    "plt.plot(trace)\n",
    "plt.grid('on')\n",
    "plt.title('Trace from F3')\n",
    "plt.ylim(-7000,7000)"
   ]
  },
  {
   "cell_type": "markdown",
   "metadata": {
    "iooxa": {
     "id": {
      "block": "MTfRqqp7yjwtCN8gx1Tn",
      "project": "n1iOdbjzTi7Mitb4L0JB",
      "version": 1
     }
    }
   },
   "source": [
    "## Phase Shifting\n",
    "\n",
    "Our phase shifting approach works by manipulating the FFT coefficents of the trace.\n",
    "The code below has been ported from the original Octave code in the TLE version and can be used to produce an arbitrary phase shift."
   ]
  },
  {
   "cell_type": "code",
   "execution_count": null,
   "metadata": {
    "iooxa": {
     "id": {
      "block": "8HzNx38UJUgfeaq871Ro",
      "project": "n1iOdbjzTi7Mitb4L0JB",
      "version": 1
     },
     "outputId": null
    }
   },
   "outputs": [],
   "source": [
    "from math import ceil,exp\n",
    "from scipy.fftpack import fft, ifft\n",
    "\n",
    "def fftshifter(x, phase_shift_in_radians):\n",
    "    # Create an array to apply the coefficient to \n",
    "    # positive and negative frequencies appropriately\n",
    "    N = len(x);\n",
    "    R0 = np.exp(-1j*phase_shift_in_radians);\n",
    "    R = np.ones(x.shape, dtype=np.complex);\n",
    "    R[0]=0.; \n",
    "    R[1:N//2] = R0;\n",
    "    R[N//2:] = np.conj(R0);\n",
    "\n",
    "    # Apply the phase shift in the frequency domain\n",
    "    Xshifted = R*fft(x);\n",
    "    \n",
    "    # Recover the shifted time domain signal\n",
    "    y = np.real(ifft(Xshifted));\n",
    "    \n",
    "    return y"
   ]
  },
  {
   "cell_type": "code",
   "execution_count": null,
   "metadata": {
    "iooxa": {
     "id": {
      "block": "DJnpsBVwUFZayrAHXoWP",
      "project": "n1iOdbjzTi7Mitb4L0JB",
      "version": 2
     },
     "outputId": {
      "block": "JEVax7QLR0BOffmSImtH",
      "project": "n1iOdbjzTi7Mitb4L0JB",
      "version": 2
     }
    }
   },
   "outputs": [],
   "source": [
    "rotation_angle_degrees = 90\n",
    "yp = fftshifter(trace, np.pi*rotation_angle_degrees/180)\n",
    "\n",
    "plt.figure(figsize=(16,3))\n",
    "plt.plot(trace)\n",
    "plt.plot(yp,':')\n",
    "plt.grid('on')\n",
    "plt.title(f\"Trace and {rotation_angle_degrees} degree phase shifted version\")\n",
    "plt.ylim(-7000,7000)"
   ]
  },
  {
   "cell_type": "markdown",
   "metadata": {
    "iooxa": {
     "id": {
      "block": "dddlkkJET25YnJb80wYU",
      "project": "n1iOdbjzTi7Mitb4L0JB",
      "version": 1
     }
    }
   },
   "source": [
    "Which can then of course be used to perform a Hilbert Transform y shifting by 90 degrees.\n",
    "\n",
    "But! of course we are now in python with scipy available and can benefit from a built in hilbert transform functions. Note there are 2!\n",
    " - [scipy.signal.hilbert](https://docs.scipy.org/doc/scipy/reference/generated/scipy.signal.hilbert.html)\n",
    " - [scipy.fftpack.hilbert](https://docs.scipy.org/doc/scipy/reference/generated/scipy.fftpack.hilbert.html)\n",
    " \n",
    "that have different calling semantics but a hilbert transform is a hilbert transform and below we can see they are equivalent to the `fftshifter` at 90 degrees.\n",
    "\n",
    "TODO: Currently there are differences, as we are not applying a window to our trace prior to FFT computation in the function above. Needs to be addressed, check the scipy implementations to see what they are using."
   ]
  },
  {
   "cell_type": "markdown",
   "metadata": {
    "iooxa": {
     "id": {
      "block": "xEmUC7fNcbsLtrvAFuGs",
      "project": "n1iOdbjzTi7Mitb4L0JB",
      "version": 1
     }
    }
   },
   "source": [
    "## Complex Trace Attributes\n",
    "\n",
    "Computing the Hilbert Transform allows us to use the Analytic Trace representation\n",
    "\n",
    "$z = s(t) + i \\cdot H(s(t))$\n",
    "\n",
    "to compute a variety of well known seimsic trace attributes. For example, envelope and instantaneous phase."
   ]
  },
  {
   "cell_type": "code",
   "execution_count": null,
   "metadata": {
    "iooxa": {
     "id": {
      "block": "aKlcr8jIieKBVgihPx9x",
      "project": "n1iOdbjzTi7Mitb4L0JB",
      "version": 1
     },
     "outputId": null
    }
   },
   "outputs": [],
   "source": [
    "from scipy.signal import hilbert as hilbert_transform\n",
    "hilbert = np.zeros_like(seismic)\n",
    "\n",
    "for x in range(seismic.shape[0]):\n",
    "    hilbert[x,:] = np.imag(hilbert_transform(seismic[x,:]))\n",
    "\n",
    "z = seismic + 1j*hilbert\n",
    "env = np.abs(z)\n",
    "phase = np.angle(z)"
   ]
  },
  {
   "cell_type": "markdown",
   "metadata": {
    "iooxa": {
     "id": {
      "block": "h3a3ZxXKrkCQ0BYJQdb6",
      "project": "n1iOdbjzTi7Mitb4L0JB",
      "version": 1
     }
    }
   },
   "source": [
    "### On a Trace\n",
    "\n",
    "\n"
   ]
  },
  {
   "cell_type": "code",
   "execution_count": null,
   "metadata": {
    "iooxa": {
     "id": {
      "block": "cL6V5DLe4MciHNMCsrXQ",
      "project": "n1iOdbjzTi7Mitb4L0JB",
      "version": 2
     },
     "outputId": {
      "block": "Dh3cczixQEpd2feAbki8",
      "project": "n1iOdbjzTi7Mitb4L0JB",
      "version": 2
     }
    }
   },
   "outputs": [],
   "source": [
    "fig, axs = plt.subplots(2,1, figsize=(16,6))\n",
    "\n",
    "il_idx=100\n",
    "t = np.arange(400,1104, 4.0)\n",
    "axs[0].plot(t,seismic[il_idx, :])\n",
    "axs[0].plot(t, hilbert[il_idx, :], ':')\n",
    "axs[0].plot(t, env[il_idx, :], 'k', linewidth=1)\n",
    "axs[0].plot(t, -env[il_idx, :], 'k', linewidth=1)\n",
    "axs[0].set_title('Trace Amplitudes')\n",
    "axs[0].grid('on')\n",
    "axs[0].set_xlim(400,1100)\n",
    "axs[0].legend(labels=['seismic','hilbert','envelope'])\n",
    "\n",
    "axs[1].plot(t,phase[il_idx, :], 'k', linewidth=1)\n",
    "axs[1].set_title('Instantaneous Phase')\n",
    "axs[1].grid('on')\n",
    "axs[1].set_xlim(400,1100)"
   ]
  },
  {
   "cell_type": "markdown",
   "metadata": {
    "iooxa": {
     "id": {
      "block": "E7N24NwSVvG4wbQzu279",
      "project": "n1iOdbjzTi7Mitb4L0JB",
      "version": 1
     }
    }
   },
   "source": [
    "### On a Section"
   ]
  },
  {
   "cell_type": "code",
   "execution_count": null,
   "metadata": {
    "iooxa": {
     "id": {
      "block": "38G4ywUF0rxfEQpNPRVc",
      "project": "n1iOdbjzTi7Mitb4L0JB",
      "version": 2
     },
     "outputId": {
      "block": "BaEOB22hArBJxUrkQ0kz",
      "project": "n1iOdbjzTi7Mitb4L0JB",
      "version": 2
     }
    }
   },
   "outputs": [],
   "source": [
    "fig, axs = plt.subplots(2,2, figsize=(16,10))\n",
    "\n",
    "def plot_it(ax, data, vmin, vmax, title, cmap, ticks, ticklabels, alpha=1.0, interpolation='bilinear'):\n",
    "    im = ax.imshow(data.T, vmin=vmin, vmax=vmax, cmap=cmap, aspect='auto', alpha=alpha, interpolation=interpolation)\n",
    "    ax.axvline(il_idx, 0, 250, color='black')\n",
    "    ax.set_title(title)\n",
    "    ax.get_xaxis().set_visible(False)\n",
    "    ax.get_yaxis().set_visible(False)\n",
    "    cbar = fig.colorbar(im, \n",
    "                        ax=ax,\n",
    "                        ticks=ticks,\n",
    "                        orientation='horizontal',\n",
    "                        fraction=0.03, pad=0.03)\n",
    "    cbar.ax.set_xticklabels(ticklabels)\n",
    "\n",
    "plot_it(axs[0][0], seismic, -vrng/2, vrng/2, 'Seismic', 'seismic', [-vrng/2, 0, vrng/2], ['-ve', '0', '+ve'])\n",
    "plot_it(axs[0][1], hilbert, -vrng/2, vrng/2, 'Hilbert', 'seismic', [-vrng/2, 0, vrng/2], ['-ve', '0', '+ve'])\n",
    "plot_it(axs[1][0], env, 0, vrng/2, 'Envelope', 'viridis', [0, vrng/2], ['0', 'max'])\n",
    "plot_it(axs[1][1], phase, -np.pi, np.pi, 'Instantaneous Phase', 'twilight', [-np.pi, 0, np.pi], ['tau/2', '0', 'tau/2'])\n",
    "\n",
    "plt.tight_layout()"
   ]
  },
  {
   "cell_type": "markdown",
   "metadata": {
    "iooxa": {
     "id": {
      "block": "USXodLv3mjwnzx1p4obG",
      "project": "n1iOdbjzTi7Mitb4L0JB",
      "version": 1
     }
    }
   },
   "source": [
    "## Checking the phase of the seismic\n",
    "\n",
    "The principle that Roden and Sepúlveda (1999) apply is that at strong reflections in zero-phase data, we would expect peaks (or troughs) in the trace to align with peaks in the envelope. Therefore, any horizon that we pick on zero-phase data could also be picked on the envelope of that data.\n",
    "\n",
    "We can use this principle to check for residual phase at given reflectors"
   ]
  },
  {
   "cell_type": "code",
   "execution_count": null,
   "metadata": {
    "iooxa": {
     "id": {
      "block": "k6XhImW8hr7cQXRXYKVQ",
      "project": "n1iOdbjzTi7Mitb4L0JB",
      "version": 1
     },
     "outputId": null
    }
   },
   "outputs": [],
   "source": [
    "from math import ceil\n",
    "from scipy.ndimage.filters import maximum_filter1d\n",
    "import warnings\n",
    "\n",
    "def find_peaks(x, a):\n",
    "    y = np.full(x.shape, np.nan)\n",
    "    ya = np.full(x.shape, np.nan)\n",
    "    xmax = maximum_filter1d(x, 3)\n",
    "    max_mask = x >= xmax\n",
    "    y[max_mask] = x[max_mask]\n",
    "    ya[max_mask] = a[max_mask]\n",
    "    return y, ya\n",
    "\n",
    "def get_idealised_phase(phase_at_peaks):\n",
    "    # flip to nearest 'zero' phase point\n",
    "    ideal_phase = np.full(phase_at_peaks.shape, np.nan);\n",
    "    with warnings.catch_warnings():\n",
    "        warnings.simplefilter(\"ignore\")\n",
    "        ideal_phase[np.abs(phase_at_peaks) < np.pi/2] = 0.;    \n",
    "        ideal_phase[np.abs(phase_at_peaks - np.pi) < np.pi/2] = np.pi;\n",
    "        ideal_phase[np.abs(phase_at_peaks + np.pi) < np.pi/2] = -np.pi;\n",
    "    return ideal_phase"
   ]
  },
  {
   "cell_type": "code",
   "execution_count": null,
   "metadata": {
    "iooxa": {
     "id": {
      "block": "d2doUwjJOKxTz3IrfgNy",
      "project": "n1iOdbjzTi7Mitb4L0JB",
      "version": 1
     },
     "outputId": null
    }
   },
   "outputs": [],
   "source": [
    "penv, pphase = find_peaks(env[il_idx, :], phase[il_idx, :])\n",
    "idealised_phase = get_idealised_phase(pphase)"
   ]
  },
  {
   "cell_type": "code",
   "execution_count": null,
   "metadata": {
    "iooxa": {
     "id": {
      "block": "YPj0pcUj6D6pUns9fvaj",
      "project": "n1iOdbjzTi7Mitb4L0JB",
      "version": 2
     },
     "outputId": {
      "block": "DexmFKp88yx00HTanhc1",
      "project": "n1iOdbjzTi7Mitb4L0JB",
      "version": 2
     }
    }
   },
   "outputs": [],
   "source": [
    "fig, axs = plt.subplots(2,1, figsize=(16,7))\n",
    "\n",
    "t = np.arange(400,1104, 4.0)\n",
    "\n",
    "axs[0].plot(t,seismic[il_idx, :])\n",
    "axs[0].plot(t,env[il_idx, :], linewidth=1)\n",
    "axs[0].plot(t,env[il_idx, :],'k', linewidth=1)\n",
    "axs[0].plot(t,-env[il_idx, :],'k', linewidth=1)\n",
    "axs[0].stem(t,penv, 'C1--','C1o',':')\n",
    "axs[0].stem(t,-penv, 'C1--','C1o',':')\n",
    "axs[0].grid('on')\n",
    "axs[0].set_xlim(400,1100)\n",
    "axs[0].legend(labels=['seismic','peaks','envelope'])\n",
    "axs[0].set_title('Envelope Peaks')\n",
    "\n",
    "axs[1].stem(t, idealised_phase,'C1:','C1o',':')\n",
    "axs[1].stem(t, pphase,'C0:','C0x',':')\n",
    "axs[1].grid('on')\n",
    "axs[1].set_xlim(400,1100)\n",
    "axs[1].legend(labels=['idealised','actual'])\n",
    "axs[1].set_title('Ideal & Actual Phase at Envelope Peaks')\n",
    "\n",
    "plt.subplots_adjust(hspace=0.25)"
   ]
  },
  {
   "cell_type": "markdown",
   "metadata": {
    "iooxa": {
     "id": {
      "block": "VSrQpJ4VliNRJSjABLje",
      "project": "n1iOdbjzTi7Mitb4L0JB",
      "version": 1
     }
    }
   },
   "source": [
    "## Plot phase error on a section"
   ]
  },
  {
   "cell_type": "code",
   "execution_count": null,
   "metadata": {
    "iooxa": {
     "id": {
      "block": "LrwIGnYMdTAOu6lqwpbj",
      "project": "n1iOdbjzTi7Mitb4L0JB",
      "version": 2
     },
     "outputId": {
      "block": "brCTnAzwD6toDXyZ3lhQ",
      "project": "n1iOdbjzTi7Mitb4L0JB",
      "version": 2
     }
    }
   },
   "outputs": [],
   "source": [
    "from tqdm.notebook import tqdm\n",
    "phase_error = np.zeros_like(seismic)\n",
    "\n",
    "for x in tqdm(range(line.shape[0])):\n",
    "    _, pphase = find_peaks(env[x, :], phase[x, :])\n",
    "    idealised_phase = get_idealised_phase(pphase)\n",
    "    phase_error[x,:] = np.abs(idealised_phase-pphase)"
   ]
  },
  {
   "cell_type": "code",
   "execution_count": null,
   "metadata": {
    "iooxa": {
     "id": {
      "block": "3D0WYARItzUbyEo4AqNn",
      "project": "n1iOdbjzTi7Mitb4L0JB",
      "version": 2
     },
     "outputId": {
      "block": "IeFPY61XFvFE2t41IHV9",
      "project": "n1iOdbjzTi7Mitb4L0JB",
      "version": 2
     }
    }
   },
   "outputs": [],
   "source": [
    "fig, ax = plt.subplots(1,1, figsize=(16,8))\n",
    "\n",
    "plot_it(ax, phase_error, 0, np.pi/2, 'Phase Error', 'plasma', [0, np.pi/2], ['0', '45deg'], interpolation='none')"
   ]
  }
 ],
 "metadata": {
  "iooxa": {
   "id": {
    "block": "7FbqmosjJJ2GyruX2NFE",
    "project": "n1iOdbjzTi7Mitb4L0JB",
    "version": 3
   }
  },
  "kernelspec": {
   "display_name": "seg-tutorial-phase",
   "language": "python",
   "name": "seg-tutorial-phase"
  },
  "language_info": {
   "codemirror_mode": {
    "name": "ipython",
    "version": 3
   },
   "file_extension": ".py",
   "mimetype": "text/x-python",
   "name": "python",
   "nbconvert_exporter": "python",
   "pygments_lexer": "ipython3",
   "version": "3.7.6"
  }
 },
 "nbformat": 4,
 "nbformat_minor": 4
}
